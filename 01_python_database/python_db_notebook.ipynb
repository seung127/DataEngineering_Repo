{
 "cells": [
  {
   "cell_type": "markdown",
   "metadata": {},
   "source": [
    "## 0. 개발 환경 구성\n",
    "\n",
    "1. Python 가상 환경 생성  \n",
    "   - 이름 : `sprint_part4`\n",
    "   - `python -m venv sprint_part4`\n",
    "\n",
    "2. VSCode에 가상 환경의 Python 등록\n",
    "\n",
    "3. 가상 환경 활성화\n",
    "   - 윈도우 git bash → `source sprint_part4/Scripts/activate`\n",
    "   - 윈도우 CMD → `call sprint_part4/Scripts/activate`\n",
    "   - 맥 터미널 → `source sprint_part4/bin/activate`\n",
    "\n",
    "4. 가상 환경에 `requirements.txt` 파일 내 라이브러리들 설치\n",
    "   - `pip install -r requirements.txt`\n",
    "\n",
    "5. `docker-compose.yaml` 파일을 통해 MYSQL, POSTGRESQL 컨테이너 생성\n",
    "   - `docker compose up -d`"
   ]
  },
  {
   "cell_type": "markdown",
   "metadata": {},
   "source": [
    "## 1. Python을 통한 DB Connection"
   ]
  },
  {
   "cell_type": "code",
   "execution_count": 1,
   "metadata": {},
   "outputs": [],
   "source": [
    "import psycopg2, pandas as pd, sqlalchemy, pymysql, dotenv, loguru"
   ]
  },
  {
   "cell_type": "code",
   "execution_count": null,
   "metadata": {},
   "outputs": [],
   "source": [
    "## pymysql <--> mysql DB\n",
    "## psycopg2 <--> postgresql DB\n",
    "## oracle_db <--> oracle DB\n",
    "## pymssql <--> mssql DB\n",
    "## sqlalchemy <--> 다양한 RDBMS를 공통적인 코드로 connection 연결이 가능"
   ]
  },
  {
   "cell_type": "markdown",
   "metadata": {},
   "source": [
    "### 1-1 MySQL 라이브러리(pymysql)를 활용한 Connection"
   ]
  },
  {
   "cell_type": "code",
   "execution_count": 3,
   "metadata": {},
   "outputs": [],
   "source": [
    "import pymysql\n",
    "\n",
    "user = 'root'\n",
    "password = '123456'\n",
    "host = 'localhost'\n",
    "port = 3300\n",
    "database = 'docker_mysql'\n",
    "\n",
    "mysql = pymysql.connect(\n",
    "    user=user,\n",
    "    password=password,\n",
    "    host=host,\n",
    "    port=port,\n",
    "    database=database,\n",
    "    charset='utf8'\n",
    "    )"
   ]
  },
  {
   "cell_type": "markdown",
   "metadata": {},
   "source": [
    "#### cursor 란?\n",
    "- 쿼리문에 의해서 반환되는 결과값들을 저장하는 메모리공간\n",
    "- execute를 통해 명령을 주고 이걸 받으려면 fetchall()로 받아와야 함 \n",
    "- fetch로 받아오면 통로가 사라짐 "
   ]
  },
  {
   "cell_type": "code",
   "execution_count": 16,
   "metadata": {},
   "outputs": [],
   "source": [
    "cursor = mysql.cursor()"
   ]
  },
  {
   "cell_type": "code",
   "execution_count": 17,
   "metadata": {},
   "outputs": [
    {
     "data": {
      "text/plain": [
       "5"
      ]
     },
     "execution_count": 17,
     "metadata": {},
     "output_type": "execute_result"
    }
   ],
   "source": [
    "cursor.execute(\"SHOW DATABASES\")"
   ]
  },
  {
   "cell_type": "code",
   "execution_count": 18,
   "metadata": {},
   "outputs": [
    {
     "data": {
      "text/plain": [
       "(('docker_mysql',),\n",
       " ('information_schema',),\n",
       " ('mysql',),\n",
       " ('performance_schema',),\n",
       " ('sys',))"
      ]
     },
     "execution_count": 18,
     "metadata": {},
     "output_type": "execute_result"
    }
   ],
   "source": [
    "cursor.fetchall()"
   ]
  },
  {
   "cell_type": "code",
   "execution_count": 19,
   "metadata": {},
   "outputs": [
    {
     "data": {
      "text/plain": [
       "(('docker_mysql',), ('information_schema',), ('mysql',))"
      ]
     },
     "execution_count": 19,
     "metadata": {},
     "output_type": "execute_result"
    }
   ],
   "source": [
    "#cursor.fetchone()\n",
    "cursor.execute(\"SHOW DATABASES\")\n",
    "cursor.fetchmany(3)"
   ]
  },
  {
   "cell_type": "markdown",
   "metadata": {},
   "source": [
    "#### DDL & DML 쿼리 생성"
   ]
  },
  {
   "cell_type": "code",
   "execution_count": 20,
   "metadata": {},
   "outputs": [
    {
     "data": {
      "text/plain": [
       "0"
      ]
     },
     "execution_count": 20,
     "metadata": {},
     "output_type": "execute_result"
    }
   ],
   "source": [
    "## 테이블 생성 쿼리 \n",
    "\n",
    "create_query = \"\"\"\n",
    "    CREATE TABLE IF NOT EXISTS lecture (\n",
    "        id INT AUTO_INCREMENT PRIMARY KEY, \n",
    "        name VARCHAR(20),\n",
    "        year INT,\n",
    "        gender VARCHAR(10),\n",
    "        count INT\n",
    "        );\n",
    "\"\"\"\n",
    "\n",
    "cursor.execute(create_query)"
   ]
  },
  {
   "cell_type": "code",
   "execution_count": 21,
   "metadata": {},
   "outputs": [
    {
     "data": {
      "text/plain": [
       "(('lecture',),)"
      ]
     },
     "execution_count": 21,
     "metadata": {},
     "output_type": "execute_result"
    }
   ],
   "source": [
    "cursor.execute('SHOW TABLES FROM docker_mysql')\n",
    "cursor.fetchall()"
   ]
  },
  {
   "cell_type": "code",
   "execution_count": 26,
   "metadata": {},
   "outputs": [],
   "source": [
    "## INSERT\n",
    "insert_query = \"\"\"\n",
    "    INSERT INTO lecture\n",
    "    VALUES (1, 'codeit', 2025, 'M', 100);\n",
    "\"\"\"\n",
    "\n",
    "cursor.execute(insert_query)\n",
    "mysql.commit()"
   ]
  },
  {
   "cell_type": "code",
   "execution_count": 28,
   "metadata": {},
   "outputs": [],
   "source": [
    "## UPDATE\n",
    "update_query = \"\"\"\n",
    "    UPDATE lecture SET count = 200 WHERE id = 1\n",
    "\"\"\"\n",
    "\n",
    "cursor.execute(update_query)\n",
    "mysql.commit()"
   ]
  },
  {
   "cell_type": "code",
   "execution_count": 25,
   "metadata": {},
   "outputs": [
    {
     "data": {
      "text/plain": [
       "0"
      ]
     },
     "execution_count": 25,
     "metadata": {},
     "output_type": "execute_result"
    }
   ],
   "source": [
    "## DELETE\n",
    "delete_query = \"\"\"\n",
    "    DELETE FROM lecture WHERE id = 1\n",
    "\"\"\"\n",
    "\n",
    "cursor.execute(delete_query)"
   ]
  },
  {
   "cell_type": "code",
   "execution_count": null,
   "metadata": {},
   "outputs": [],
   "source": []
  },
  {
   "cell_type": "markdown",
   "metadata": {},
   "source": [
    "### 1-2 Postgresql 라이브러리(psycopg2)를 활용한 Connection"
   ]
  },
  {
   "cell_type": "code",
   "execution_count": null,
   "metadata": {},
   "outputs": [],
   "source": [
    "import psycopg2\n",
    "\n",
    "user = ''\n",
    "password = ''\n",
    "host = ''\n",
    "port = 0\n",
    "dbname = ''\n",
    "\n",
    "postgres = psycopg2.connect(\n",
    "    user=user,\n",
    "    password=password,\n",
    "    host=host,\n",
    "    port=port,\n",
    "    dbname=dbname,\n",
    "    )"
   ]
  },
  {
   "cell_type": "markdown",
   "metadata": {},
   "source": [
    "#### DDL & DML 쿼리 생성"
   ]
  },
  {
   "cell_type": "code",
   "execution_count": null,
   "metadata": {},
   "outputs": [],
   "source": [
    "## CREATE\n",
    "create_query = \"\"\"\n",
    "    CREATE TABLE lecture (\n",
    "        id SERIAL PRIMARY KEY, \n",
    "        name VARCHAR(20), \n",
    "        year INT, \n",
    "        gender VARCHAR(10), \n",
    "        count INT\n",
    "        )\n",
    "    \"\"\""
   ]
  },
  {
   "cell_type": "code",
   "execution_count": null,
   "metadata": {},
   "outputs": [],
   "source": [
    "## INSERT\n",
    "insert_query = \"\"\"\n",
    "    INSERT INTO lecture\n",
    "    VALUES (1, 'codeit', 2025, 'M', 100);\n",
    "\"\"\""
   ]
  },
  {
   "cell_type": "code",
   "execution_count": null,
   "metadata": {},
   "outputs": [],
   "source": [
    "## UPDATE\n",
    "update_query = \"\"\"\n",
    "    UPDATE lecture SET count = 200 WHERE id = 1\n",
    "\"\"\""
   ]
  },
  {
   "cell_type": "code",
   "execution_count": null,
   "metadata": {},
   "outputs": [],
   "source": [
    "## DELETE\n",
    "delete_query = \"\"\"\n",
    "    DELETE FROM lecture WHERE id = 1\n",
    "\"\"\""
   ]
  },
  {
   "cell_type": "markdown",
   "metadata": {},
   "source": [
    "#### Connection Pool\n",
    "\n",
    "<img src=\"https://velog.velcdn.com/images/newnew_daddy/post/f0569aa7-1aad-466e-a24f-5e3b5f248a72/image.png\" width=\"30%\">\n",
    "\n",
    "- 일정량의 Connection 객체를 미리 만들어서 pool에 저장\n",
    "- 클라이언트 요청이 오면 Connection 객체를 빌려주고 해당 객체의 임무가 완료되면 다시 Connection 객체를 반납 받아 pool에 저장\n",
    "- 큰 커넥션 풀은 메모리 소모가 큰 대신 대기 시간이 적어지고, 작은 커넥션 풀은 메모리 소모가 작은 대신 대기 시간이 길어진다. ([적정 Connection 수 공식](https://github.com/brettwooldridge/HikariCP/wiki/About-Pool-Sizing#the-formula))\n",
    "- 자원을 사용하면 반드시 반납을 해줘야하는데 이를 위해 DB 연결시 파이썬 `with문`을 사용"
   ]
  },
  {
   "cell_type": "markdown",
   "metadata": {},
   "source": [
    "### 1-3. sqlalchemy 라이브러리를 활용한 Connection"
   ]
  },
  {
   "cell_type": "code",
   "execution_count": null,
   "metadata": {},
   "outputs": [],
   "source": [
    "from sqlalchemy import create_engine, text\n",
    "\n",
    "## MYSQL connection\n",
    "\n",
    "engine_name = \"mysql+pymysql\"\n",
    "user = ''\n",
    "password = ''\n",
    "host = ''\n",
    "port = 0\n",
    "database = ''\n",
    "\n",
    "# connection 객체 생성\n",
    "mysql_conn = create_engine(f\"{engine_name}://{user}:{password}@{host}:{port}/{database}\")\n",
    "\n",
    "mysql_conn"
   ]
  },
  {
   "cell_type": "code",
   "execution_count": null,
   "metadata": {},
   "outputs": [],
   "source": []
  },
  {
   "cell_type": "code",
   "execution_count": null,
   "metadata": {},
   "outputs": [],
   "source": []
  },
  {
   "cell_type": "markdown",
   "metadata": {},
   "source": [
    "### 1-4. with문 활용\n",
    "\n",
    "#### Bad Case\n",
    "\n",
    "<img src=\"https://velog.velcdn.com/images/newnew_daddy/post/df312bda-0b22-4476-8a03-505f1d3cf5b4/image.png\" width=\"50%\">\n",
    "\n",
    "#### Good Case\n",
    "\n",
    "<img src=\"https://velog.velcdn.com/images/newnew_daddy/post/707d46b0-8a0b-4862-ad95-285dc04ddc29/image.png\" width=\"50%\">\n",
    "\n",
    "- Python에서 파일 또는 리소스 관리를 더 효과적으로 처리하기 위한 블록 구조\n",
    "- 리소스를 열고 사용한 후 자동으로 닫아주기 때문에 닫아주는 코드를 작성할 필요가 없습니다. \n",
    "- 주로 파일 입출력, 데이터베이스 연결, 네트워크 연결 등 리소스 관리에 사용됩니다."
   ]
  },
  {
   "cell_type": "code",
   "execution_count": null,
   "metadata": {},
   "outputs": [],
   "source": []
  },
  {
   "cell_type": "code",
   "execution_count": null,
   "metadata": {},
   "outputs": [],
   "source": []
  },
  {
   "cell_type": "markdown",
   "metadata": {},
   "source": [
    "### 1-5. pandas을 활용한 조회 및 저장\n",
    "- sqlalchemy connection만 활용이 가능!"
   ]
  },
  {
   "cell_type": "markdown",
   "metadata": {},
   "source": [
    "#### 1) 연결 객체 생성"
   ]
  },
  {
   "cell_type": "code",
   "execution_count": null,
   "metadata": {},
   "outputs": [],
   "source": []
  },
  {
   "cell_type": "markdown",
   "metadata": {},
   "source": [
    "#### 2) 테이블 데이터 조회"
   ]
  },
  {
   "cell_type": "code",
   "execution_count": null,
   "metadata": {},
   "outputs": [],
   "source": []
  },
  {
   "cell_type": "markdown",
   "metadata": {},
   "source": [
    "#### 3) 테이블 저장\n",
    "- [to_sql()](https://pandas.pydata.org/docs/reference/api/pandas.DataFrame.to_sql.html) 메소드\n",
    "- dataframe.to_sql( 테이블 이름, sqlalchemy_connector, 옵션 )"
   ]
  },
  {
   "cell_type": "code",
   "execution_count": null,
   "metadata": {},
   "outputs": [],
   "source": []
  },
  {
   "cell_type": "code",
   "execution_count": 35,
   "metadata": {},
   "outputs": [],
   "source": [
    "from sqlalchemy import (\n",
    "    Column,\n",
    "    INTEGER,\n",
    "    VARCHAR,\n",
    "    String,\n",
    "    Text,\n",
    "    Float,\n",
    "    Numeric,\n",
    "    Boolean,\n",
    "    Date,\n",
    "    DateTime,\n",
    "    Time,\n",
    "    Interval,\n",
    "    LargeBinary,\n",
    "    JSON,\n",
    "    ARRAY,\n",
    "    Enum,\n",
    "    SmallInteger,\n",
    "    BigInteger,\n",
    "    Unicode,\n",
    "    UnicodeText,\n",
    "    PickleType,\n",
    "    BLOB,\n",
    "    CLOB\n",
    ")"
   ]
  },
  {
   "cell_type": "markdown",
   "metadata": {},
   "source": [
    "#### 4) 테이블 조회/저장 실습"
   ]
  },
  {
   "cell_type": "code",
   "execution_count": null,
   "metadata": {},
   "outputs": [],
   "source": [
    "\"\"\"\n",
    "tips.csv 파일의 데이터를 활용하여 아래 과정을 진행해주세요.\n",
    "\n",
    "1. 1 ~ 100 행\n",
    "- MYSQL에 저장 (to_sql 활용)\n",
    "\t- 테이블 이름 : 'tips'\n",
    "\t- if_exist 조건 : replace\n",
    "\t\n",
    "2. 101 ~ 244 행\n",
    "- POSTGRESQL에 저장 (to_sql 활용)\n",
    "\t- 테이블 이름 : 'tips'\n",
    "\t- if_exist 조건 : replace\n",
    "\t\n",
    "3. MYSQL tips 테이블 + POSTGRESQL tips 테이블을 각각 dataframe으로 불러와서 concat 해주세요.\t\n",
    "\"\"\""
   ]
  },
  {
   "cell_type": "code",
   "execution_count": null,
   "metadata": {},
   "outputs": [],
   "source": []
  },
  {
   "cell_type": "markdown",
   "metadata": {},
   "source": [
    "## 3. dotenv 라이브러리를 활용한 민감 정보 관리\n",
    "\n",
    "- 환경 변수에 대한 관리를 효과적이고 안전하게 할 수 있도록 도와주는 python 라이브러리\n",
    "- DB정보, 비밀번호, API KEY 등 외부에 공유되거나 Git에 올라가면 안되는 값들을 하드코딩 하지 않고 사용이 가능.\n",
    "\n",
    "    ```\n",
    "    pip install python-dotenv\n",
    "    ```\n",
    "\n",
    "    > https://velog.io/@newnew_daddy/python-dotenv"
   ]
  },
  {
   "cell_type": "markdown",
   "metadata": {},
   "source": [
    "#### 1) 기본 기능 사용"
   ]
  },
  {
   "cell_type": "code",
   "execution_count": null,
   "metadata": {},
   "outputs": [],
   "source": [
    "import dotenv\n",
    "\n",
    "# .env 파일 경로 찾기\n",
    "env_path = dotenv.find_dotenv()\n",
    "\n",
    "# .env 파일  (내용이 있으면 -> True, 없으면 -> False)\n",
    "dotenv.load_dotenv(env_path)\n",
    "\n",
    "# .env 파일에 등록된 정보 출력력\n",
    "dotenv.dotenv_values(env_path)"
   ]
  },
  {
   "cell_type": "markdown",
   "metadata": {},
   "source": [
    "#### 2) .env 파일 작성"
   ]
  },
  {
   "cell_type": "code",
   "execution_count": null,
   "metadata": {},
   "outputs": [],
   "source": [
    "ENGINE_NAME=\"\"\n",
    "USER=''\n",
    "PASSWORD=''\n",
    "HOST=''\n",
    "PORT=''\n",
    "DATABASE=''"
   ]
  },
  {
   "cell_type": "markdown",
   "metadata": {},
   "source": [
    "#### 3) 값들 Load해오기"
   ]
  },
  {
   "cell_type": "code",
   "execution_count": null,
   "metadata": {},
   "outputs": [],
   "source": []
  },
  {
   "cell_type": "markdown",
   "metadata": {},
   "source": [
    "#### 4) DB Connection Test"
   ]
  },
  {
   "cell_type": "code",
   "execution_count": null,
   "metadata": {},
   "outputs": [],
   "source": []
  },
  {
   "cell_type": "markdown",
   "metadata": {},
   "source": [
    "## 4. Python Class를 사용한 DB 접속 관리"
   ]
  },
  {
   "cell_type": "markdown",
   "metadata": {},
   "source": [
    "#### 1) self에 대한 이해\n",
    "- Class 내에서 생성된 객체나 정보들을 저장할 수 있는 dictionary 자료형!\n",
    "- 'self'를 매개로 Class 내에서 정보/데이터를 공유할 수 있다."
   ]
  },
  {
   "cell_type": "code",
   "execution_count": null,
   "metadata": {},
   "outputs": [],
   "source": []
  },
  {
   "cell_type": "markdown",
   "metadata": {},
   "source": [
    "#### 2) Class 작성"
   ]
  },
  {
   "cell_type": "code",
   "execution_count": null,
   "metadata": {},
   "outputs": [],
   "source": []
  },
  {
   "cell_type": "code",
   "execution_count": null,
   "metadata": {},
   "outputs": [],
   "source": []
  },
  {
   "cell_type": "markdown",
   "metadata": {},
   "source": [
    "#### 3) Asterisk(*)에 대한 이해"
   ]
  },
  {
   "cell_type": "code",
   "execution_count": null,
   "metadata": {},
   "outputs": [],
   "source": []
  },
  {
   "cell_type": "code",
   "execution_count": null,
   "metadata": {},
   "outputs": [],
   "source": []
  },
  {
   "cell_type": "markdown",
   "metadata": {},
   "source": [
    "#### 4) connection parameter 합치기"
   ]
  },
  {
   "cell_type": "code",
   "execution_count": null,
   "metadata": {},
   "outputs": [],
   "source": []
  },
  {
   "cell_type": "code",
   "execution_count": null,
   "metadata": {},
   "outputs": [],
   "source": []
  },
  {
   "cell_type": "markdown",
   "metadata": {},
   "source": [
    "#### 5) DBconnector에 asterisk 적용"
   ]
  },
  {
   "cell_type": "code",
   "execution_count": null,
   "metadata": {},
   "outputs": [],
   "source": []
  },
  {
   "cell_type": "code",
   "execution_count": null,
   "metadata": {},
   "outputs": [],
   "source": []
  },
  {
   "cell_type": "markdown",
   "metadata": {},
   "source": [
    "#### 심화) class 객체에 with문 적용\n",
    "Bad Case\n",
    "\n",
    "<img src=\"https://velog.velcdn.com/images/newnew_daddy/post/df312bda-0b22-4476-8a03-505f1d3cf5b4/image.png\" width=\"50%\">\n",
    "\n",
    "Good Case\n",
    "\n",
    "<img src=\"https://velog.velcdn.com/images/newnew_daddy/post/707d46b0-8a0b-4862-ad95-285dc04ddc29/image.png\" width=\"50%\">\n",
    "\n",
    "- Python에서 파일 또는 리소스 관리를 더 효과적으로 처리하기 위한 블록 구조\n",
    "- 리소스를 열고 사용한 후 자동으로 닫아주기 때문에 닫아주는 코드를 작성할 필요가 없습니다. \n",
    "- 주로 파일 입출력, 데이터베이스 연결, 네트워크 연결 등 리소스 관리에 사용됩니다.\n",
    "\n",
    "    ```\n",
    "    with문을 사용할 때는 with 키워드 다음에 리소스를 관리하는 객체를 생성하는 표현식을 사용하며, \n",
    "    이 객체는 __enter__와 __exit__ 메소드를 구현해야 합니다. \n",
    "    with 블록 내에서 리소스를 사용하고 블록을 벗어나면 __exit__ 메소드가 호출되어 리소스를 정리합니다.\n",
    "    ```\n",
    "\n",
    "- enter, exit 적용\n",
    "    > [https://docs.python.org/ko/3/reference/datamodel.html#object.__enter__](https://docs.python.org/ko/3/reference/datamodel.html#object.__enter__)"
   ]
  },
  {
   "cell_type": "markdown",
   "metadata": {},
   "source": [
    "## 5. Loguru를 활용한 작업 로깅\n",
    "\n",
    "#### 로깅이란?\n",
    "- 프로그램 실행 중 발생하는 이벤트, 상태, 오류 등을 기록하는 프로세스\n",
    "- 단순히 `print()`로 콘솔에 출력하여 메세지를 확인할 수 있지만, 로깅 모듈을 활용하면 로그 메시지를 파일에 저장하거나 특정 형식으로 관리할 수 있습니다.\n",
    "  \n",
    "#### Loguru란?\n",
    "- 파이썬의 기본 `logging` 모듈보다 더 간단하고 직관적인 설정으로 로깅을 구현할 수 있도록 해주는 라이브러리."
   ]
  },
  {
   "cell_type": "code",
   "execution_count": null,
   "metadata": {},
   "outputs": [],
   "source": [
    "from loguru import logger\n",
    "\n",
    "logger.add('logger.log')\n",
    "\n",
    "# log_format = \"{time:YYYY-MM-DD HH:mm:ss} | {level} | {name} | {message}\"\n",
    "# logger.add(\n",
    "#         \"task.log\",\n",
    "#         format=log_format,\n",
    "#         level=\"DEBUG\",\n",
    "#     )"
   ]
  },
  {
   "cell_type": "markdown",
   "metadata": {},
   "source": [
    "#### Loguru 로그 레벨\n",
    "1. TRACE (레벨 5)\n",
    "   - 가장 낮은 레벨로, 매우 세부적인 디버깅 정보를 기록할 때 사용.\n",
    "   - 예: 변수 값 추적, 함수 호출 흐름 등.\n",
    "\n",
    "2. DEBUG (레벨 10)\n",
    "   - 디버깅 목적으로 상세 정보를 기록할 때 사용.\n",
    "   - 예: 프로그램 흐름, 내부 상태 디버깅.\n",
    "\n",
    "3. INFO (레벨 20)\n",
    "   - 일반적인 정보 메시지를 기록할 때 사용.\n",
    "   - 예: 프로그램 시작/종료, 주요 작업 완료.\n",
    "\n",
    "4. SUCCESS (레벨 25)\n",
    "   - 작업이 성공적으로 완료되었음을 나타낼 때 사용.\n",
    "   - 예: 파일 처리 완료, 데이터 저장 성공.\n",
    "\n",
    "5. WARNING (레벨 30)\n",
    "   - 경고 상황, 잠재적 문제나 주의가 필요한 경우에 사용.\n",
    "   - 예: 설정값이 예상 밖이거나, 비추천 기능 사용.\n",
    "\n",
    "6. ERROR (레벨 40)\n",
    "   - 오류가 발생했지만 프로그램이 계속 실행 가능한 경우에 사용.\n",
    "   - 예: 파일 읽기 실패, 네트워크 연결 오류.\n",
    "\n",
    "7. CRITICAL (레벨 50)\n",
    "   - 심각한 오류로, 프로그램이 중단되거나 복구 불가능한 상태일 때 사용.\n",
    "   - 예: 데이터베이스 연결 완전 실패, 시스템 크래시.\n",
    "\n",
    "---\n",
    "\n",
    "#### 로그 레벨 사용 방법\n",
    "```python\n",
    "from loguru import logger\n",
    "\n",
    "logger.trace(\"This is a trace message\")\n",
    "logger.debug(\"This is a debug message\")\n",
    "logger.info(\"This is an info message\")\n",
    "logger.success(\"This is a success message\")\n",
    "logger.warning(\"This is a warning message\")\n",
    "logger.error(\"This is an error message\")\n",
    "logger.critical(\"This is a critical message\")\n",
    "```\n",
    "\n",
    "#### 로그 레벨 필터링\n",
    "`logger.add()`에서 `level` 파라미터를 설정하여 특정 레벨 이상의 로그만 기록하도록 필터링할 수 있습니다:\n",
    "```python\n",
    "logger.add(\"task.log\", level=\"INFO\")  # INFO 이상만 기록\n",
    "```"
   ]
  },
  {
   "cell_type": "code",
   "execution_count": null,
   "metadata": {},
   "outputs": [],
   "source": [
    "def info_msg():\n",
    "    logger.info(\"This is a INFO message.\")\n",
    "\n",
    "def debug_msg():\n",
    "    logger.info(\"This is a DEBUG message.\")"
   ]
  },
  {
   "cell_type": "code",
   "execution_count": null,
   "metadata": {},
   "outputs": [],
   "source": []
  }
 ],
 "metadata": {
  "kernelspec": {
   "display_name": "sprint_part4",
   "language": "python",
   "name": "python3"
  },
  "language_info": {
   "codemirror_mode": {
    "name": "ipython",
    "version": 3
   },
   "file_extension": ".py",
   "mimetype": "text/x-python",
   "name": "python",
   "nbconvert_exporter": "python",
   "pygments_lexer": "ipython3",
   "version": "3.11.8"
  },
  "orig_nbformat": 4
 },
 "nbformat": 4,
 "nbformat_minor": 2
}
